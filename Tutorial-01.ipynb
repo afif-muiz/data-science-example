{
 "cells": [
  {
   "cell_type": "code",
   "execution_count": 7,
   "metadata": {},
   "outputs": [
    {
     "name": "stdout",
     "output_type": "stream",
     "text": [
      "   Duration  Average_Pulse  Max_Pulse  Calorie_Burnage  Hours_Work  \\\n",
      "0        30             80        120              240          10   \n",
      "1        30             85        120              250          10   \n",
      "2        45             90        130              260           8   \n",
      "3        45             95        130              270           8   \n",
      "4        45            100        140              280           0   \n",
      "5        60            105        140              290           7   \n",
      "6        60            110        145              300           7   \n",
      "7        60            115        145              310           8   \n",
      "8        75            120        150              320           0   \n",
      "9        75            125        150              330           8   \n",
      "\n",
      "   Hours_Sleep  \n",
      "0            7  \n",
      "1            7  \n",
      "2            7  \n",
      "3            7  \n",
      "4            7  \n",
      "5            8  \n",
      "6            8  \n",
      "7            8  \n",
      "8            8  \n",
      "9            8  \n"
     ]
    }
   ],
   "source": [
    "import pandas as pd\n",
    "\n",
    "d = {'Duration': [30,30,45,45,45,60,60,60,75,75], 'Average_Pulse': [80,85,90,95,100,105,110,115,120,125], 'Max_Pulse': [120,120,130,130,140,140,145,145,150,150],'Calorie_Burnage': [240,250,260,270,280,290,300,310,320,330], 'Hours_Work': [10,10,8,8,0,7,7,8,0,8],'Hours_Sleep': [7,7,7,7,7,8,8,8,8,8]}\n",
    "\n",
    "df = pd.DataFrame(data=d)\n",
    "\n",
    "print(df)"
   ]
  },
  {
   "cell_type": "code",
   "execution_count": 9,
   "metadata": {},
   "outputs": [
    {
     "name": "stdout",
     "output_type": "stream",
     "text": [
      "6\n"
     ]
    }
   ],
   "source": [
    "count_column = df.shape[1]\n",
    "print(count_column)"
   ]
  },
  {
   "cell_type": "code",
   "execution_count": 12,
   "metadata": {},
   "outputs": [
    {
     "name": "stdout",
     "output_type": "stream",
     "text": [
      "125\n"
     ]
    }
   ],
   "source": [
    "Average_pulse_max = max(df['Average_Pulse'])\n",
    "print (Average_pulse_max)"
   ]
  },
  {
   "cell_type": "code",
   "execution_count": 13,
   "metadata": {},
   "outputs": [
    {
     "name": "stdout",
     "output_type": "stream",
     "text": [
      "285.0\n"
     ]
    }
   ],
   "source": [
    "import numpy as np\n",
    "\n",
    "Average_calorie_burnage = np.mean(df['Calorie_Burnage'])\n",
    "print(Average_calorie_burnage)"
   ]
  }
 ],
 "metadata": {
  "kernelspec": {
   "display_name": "base",
   "language": "python",
   "name": "python3"
  },
  "language_info": {
   "codemirror_mode": {
    "name": "ipython",
    "version": 3
   },
   "file_extension": ".py",
   "mimetype": "text/x-python",
   "name": "python",
   "nbconvert_exporter": "python",
   "pygments_lexer": "ipython3",
   "version": "3.11.7"
  }
 },
 "nbformat": 4,
 "nbformat_minor": 2
}
